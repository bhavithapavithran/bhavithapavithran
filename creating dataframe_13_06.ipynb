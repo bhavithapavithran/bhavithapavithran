{
 "cells": [
  {
   "cell_type": "markdown",
   "id": "47ad7574",
   "metadata": {},
   "source": [
    "### Creating dataframes using different methods"
   ]
  },
  {
   "cell_type": "code",
   "execution_count": 1,
   "id": "1cd46c8d",
   "metadata": {},
   "outputs": [],
   "source": [
    "import pandas as pd\n",
    "import numpy as np\n",
    "import warnings\n",
    "warnings.filterwarnings('ignore')"
   ]
  },
  {
   "cell_type": "markdown",
   "id": "a7c2de0e",
   "metadata": {},
   "source": [
    "### Finding Datatype"
   ]
  },
  {
   "cell_type": "code",
   "execution_count": 2,
   "id": "29715c16",
   "metadata": {},
   "outputs": [
    {
     "name": "stdout",
     "output_type": "stream",
     "text": [
      "object\n"
     ]
    }
   ],
   "source": [
    "myseries = pd.Series(['bot','chatgpt'])\n",
    "print(myseries.dtype)"
   ]
  },
  {
   "cell_type": "code",
   "execution_count": 3,
   "id": "dc2d51a0",
   "metadata": {},
   "outputs": [
    {
     "name": "stdout",
     "output_type": "stream",
     "text": [
      "float64\n"
     ]
    }
   ],
   "source": [
    "myseries1 = pd.Series([100.5,22,55,66,77889])\n",
    "print(myseries1.dtype)"
   ]
  },
  {
   "cell_type": "markdown",
   "id": "1f1c154c",
   "metadata": {},
   "source": [
    "### Converting to List\n"
   ]
  },
  {
   "cell_type": "code",
   "execution_count": 10,
   "id": "1e2a4ea1",
   "metadata": {},
   "outputs": [
    {
     "name": "stdout",
     "output_type": "stream",
     "text": [
      "['bot', 'chatgpt']\n"
     ]
    }
   ],
   "source": [
    "print(myseries.to_list())"
   ]
  },
  {
   "cell_type": "markdown",
   "id": "19cd7442",
   "metadata": {},
   "source": [
    "### Pandas Dataframe"
   ]
  },
  {
   "cell_type": "code",
   "execution_count": 11,
   "id": "2bff30f4",
   "metadata": {},
   "outputs": [
    {
     "name": "stdout",
     "output_type": "stream",
     "text": [
      "Empty DataFrame\n",
      "Columns: []\n",
      "Index: []\n"
     ]
    }
   ],
   "source": [
    "mydf = pd.DataFrame()\n",
    "print(mydf)"
   ]
  },
  {
   "cell_type": "markdown",
   "id": "a5573d83",
   "metadata": {},
   "source": [
    "#### 1. Dataframe using list of lists"
   ]
  },
  {
   "cell_type": "code",
   "execution_count": 6,
   "id": "2e42811d",
   "metadata": {},
   "outputs": [
    {
     "data": {
      "text/html": [
       "<div>\n",
       "<style scoped>\n",
       "    .dataframe tbody tr th:only-of-type {\n",
       "        vertical-align: middle;\n",
       "    }\n",
       "\n",
       "    .dataframe tbody tr th {\n",
       "        vertical-align: top;\n",
       "    }\n",
       "\n",
       "    .dataframe thead th {\n",
       "        text-align: right;\n",
       "    }\n",
       "</style>\n",
       "<table border=\"1\" class=\"dataframe\">\n",
       "  <thead>\n",
       "    <tr style=\"text-align: right;\">\n",
       "      <th></th>\n",
       "      <th>Profession</th>\n",
       "      <th>Salary</th>\n",
       "    </tr>\n",
       "  </thead>\n",
       "  <tbody>\n",
       "    <tr>\n",
       "      <th>0</th>\n",
       "      <td>Cardiologist</td>\n",
       "      <td>1000000</td>\n",
       "    </tr>\n",
       "    <tr>\n",
       "      <th>1</th>\n",
       "      <td>Data Engineer</td>\n",
       "      <td>1500000</td>\n",
       "    </tr>\n",
       "    <tr>\n",
       "      <th>2</th>\n",
       "      <td>Architect</td>\n",
       "      <td>5000000</td>\n",
       "    </tr>\n",
       "    <tr>\n",
       "      <th>3</th>\n",
       "      <td>Data scientist</td>\n",
       "      <td>2500000</td>\n",
       "    </tr>\n",
       "    <tr>\n",
       "      <th>4</th>\n",
       "      <td>Python devoloper</td>\n",
       "      <td>1500000</td>\n",
       "    </tr>\n",
       "    <tr>\n",
       "      <th>5</th>\n",
       "      <td>Front office admin</td>\n",
       "      <td>25000</td>\n",
       "    </tr>\n",
       "  </tbody>\n",
       "</table>\n",
       "</div>"
      ],
      "text/plain": [
       "           Profession   Salary\n",
       "0        Cardiologist  1000000\n",
       "1       Data Engineer  1500000\n",
       "2           Architect  5000000\n",
       "3      Data scientist  2500000\n",
       "4    Python devoloper  1500000\n",
       "5  Front office admin    25000"
      ]
     },
     "execution_count": 6,
     "metadata": {},
     "output_type": "execute_result"
    }
   ],
   "source": [
    "profession = [['Cardiologist', 1000000], ['Data Engineer',1500000],['Architect',5000000],\\\n",
    "              ['Data scientist',2500000],['Python devoloper',1500000],['Front office admin',25000]]\n",
    "prof_salary_df = pd.DataFrame( profession , columns = ['Profession' , 'Salary'])\n",
    "prof_salary_df"
   ]
  },
  {
   "cell_type": "markdown",
   "id": "32b41c58",
   "metadata": {},
   "source": [
    "#### 2. Dataframe using dictionaries"
   ]
  },
  {
   "cell_type": "code",
   "execution_count": 7,
   "id": "37e1266a",
   "metadata": {},
   "outputs": [
    {
     "data": {
      "text/html": [
       "<div>\n",
       "<style scoped>\n",
       "    .dataframe tbody tr th:only-of-type {\n",
       "        vertical-align: middle;\n",
       "    }\n",
       "\n",
       "    .dataframe tbody tr th {\n",
       "        vertical-align: top;\n",
       "    }\n",
       "\n",
       "    .dataframe thead th {\n",
       "        text-align: right;\n",
       "    }\n",
       "</style>\n",
       "<table border=\"1\" class=\"dataframe\">\n",
       "  <thead>\n",
       "    <tr style=\"text-align: right;\">\n",
       "      <th></th>\n",
       "      <th>States</th>\n",
       "      <th>capital</th>\n",
       "      <th>Languages</th>\n",
       "    </tr>\n",
       "  </thead>\n",
       "  <tbody>\n",
       "    <tr>\n",
       "      <th>0</th>\n",
       "      <td>Kerala</td>\n",
       "      <td>Thiruvananthapuram</td>\n",
       "      <td>Malayalam</td>\n",
       "    </tr>\n",
       "    <tr>\n",
       "      <th>1</th>\n",
       "      <td>Tamil Nadu</td>\n",
       "      <td>Chennai</td>\n",
       "      <td>Tamil</td>\n",
       "    </tr>\n",
       "    <tr>\n",
       "      <th>2</th>\n",
       "      <td>Karnataka</td>\n",
       "      <td>Bengaluru</td>\n",
       "      <td>Kannada</td>\n",
       "    </tr>\n",
       "    <tr>\n",
       "      <th>3</th>\n",
       "      <td>Goa</td>\n",
       "      <td>Panaji</td>\n",
       "      <td>Konkani</td>\n",
       "    </tr>\n",
       "    <tr>\n",
       "      <th>4</th>\n",
       "      <td>MadhyaPradesh</td>\n",
       "      <td>Bhopal</td>\n",
       "      <td>Hindi</td>\n",
       "    </tr>\n",
       "    <tr>\n",
       "      <th>5</th>\n",
       "      <td>Assam</td>\n",
       "      <td>Dispur</td>\n",
       "      <td>Assamese</td>\n",
       "    </tr>\n",
       "    <tr>\n",
       "      <th>6</th>\n",
       "      <td>Punjab</td>\n",
       "      <td>Chandigarh</td>\n",
       "      <td>Punjabi</td>\n",
       "    </tr>\n",
       "    <tr>\n",
       "      <th>7</th>\n",
       "      <td>Odisha</td>\n",
       "      <td>Bhuvaneswar</td>\n",
       "      <td>oriya</td>\n",
       "    </tr>\n",
       "  </tbody>\n",
       "</table>\n",
       "</div>"
      ],
      "text/plain": [
       "          States             capital  Languages\n",
       "0         Kerala  Thiruvananthapuram  Malayalam\n",
       "1     Tamil Nadu             Chennai      Tamil\n",
       "2      Karnataka           Bengaluru    Kannada\n",
       "3            Goa              Panaji    Konkani\n",
       "4  MadhyaPradesh              Bhopal      Hindi\n",
       "5          Assam              Dispur   Assamese\n",
       "6         Punjab          Chandigarh    Punjabi\n",
       "7         Odisha         Bhuvaneswar      oriya"
      ]
     },
     "execution_count": 7,
     "metadata": {},
     "output_type": "execute_result"
    }
   ],
   "source": [
    "capital_languages = {'States':[ 'Kerala', 'Tamil Nadu', 'Karnataka' , 'Goa', 'MadhyaPradesh', 'Assam', \\\n",
    "                             'Punjab', 'Odisha'],\n",
    "                    'capital': ['Thiruvananthapuram', 'Chennai', 'Bengaluru', \\\n",
    "                               'Panaji', 'Bhopal','Dispur','Chandigarh', 'Bhuvaneswar'],\n",
    "                    'Languages':['Malayalam', 'Tamil', 'Kannada' ,'Konkani', 'Hindi','Assamese',\n",
    "                                 'Punjabi', 'oriya']}\n",
    "state_df = pd.DataFrame(capital_languages)\n",
    "state_df"
   ]
  },
  {
   "cell_type": "markdown",
   "id": "abee8057",
   "metadata": {},
   "source": [
    "#### Dataframe using list of dictionaries"
   ]
  },
  {
   "cell_type": "code",
   "execution_count": 8,
   "id": "c91e5033",
   "metadata": {},
   "outputs": [
    {
     "data": {
      "text/html": [
       "<div>\n",
       "<style scoped>\n",
       "    .dataframe tbody tr th:only-of-type {\n",
       "        vertical-align: middle;\n",
       "    }\n",
       "\n",
       "    .dataframe tbody tr th {\n",
       "        vertical-align: top;\n",
       "    }\n",
       "\n",
       "    .dataframe thead th {\n",
       "        text-align: right;\n",
       "    }\n",
       "</style>\n",
       "<table border=\"1\" class=\"dataframe\">\n",
       "  <thead>\n",
       "    <tr style=\"text-align: right;\">\n",
       "      <th></th>\n",
       "      <th>Year</th>\n",
       "      <th>Incident</th>\n",
       "    </tr>\n",
       "  </thead>\n",
       "  <tbody>\n",
       "    <tr>\n",
       "      <th>0</th>\n",
       "      <td>1857</td>\n",
       "      <td>First War of Indian Independence</td>\n",
       "    </tr>\n",
       "    <tr>\n",
       "      <th>1</th>\n",
       "      <td>1905</td>\n",
       "      <td>Partition of Bengal</td>\n",
       "    </tr>\n",
       "    <tr>\n",
       "      <th>2</th>\n",
       "      <td>1912</td>\n",
       "      <td>Delhi-Lahore conspiracy case</td>\n",
       "    </tr>\n",
       "    <tr>\n",
       "      <th>3</th>\n",
       "      <td>1919</td>\n",
       "      <td>Jalianwala Bagh Tragedy</td>\n",
       "    </tr>\n",
       "    <tr>\n",
       "      <th>4</th>\n",
       "      <td>1920</td>\n",
       "      <td>First non-co-operation movement</td>\n",
       "    </tr>\n",
       "  </tbody>\n",
       "</table>\n",
       "</div>"
      ],
      "text/plain": [
       "   Year                          Incident\n",
       "0  1857  First War of Indian Independence\n",
       "1  1905               Partition of Bengal\n",
       "2  1912      Delhi-Lahore conspiracy case\n",
       "3  1919           Jalianwala Bagh Tragedy\n",
       "4  1920   First non-co-operation movement"
      ]
     },
     "execution_count": 8,
     "metadata": {},
     "output_type": "execute_result"
    }
   ],
   "source": [
    "india_timeline = [ {'Year': 1857 , 'Incident':'First War of Indian Independence'},\n",
    "                  {'Year':1905,'Incident':'Partition of Bengal'},\n",
    "                 {'Year' :1912,'Incident':'Delhi-Lahore conspiracy case'},\n",
    "                 {'Year': 1919,'Incident': 'Jalianwala Bagh Tragedy'},\n",
    "                 {'Year':1920, 'Incident':'First non-co-operation movement'}]\n",
    "india_df = pd.DataFrame(india_timeline)\n",
    "india_df"
   ]
  },
  {
   "cell_type": "code",
   "execution_count": 16,
   "id": "9a4f4ed6",
   "metadata": {},
   "outputs": [
    {
     "data": {
      "text/html": [
       "<div>\n",
       "<style scoped>\n",
       "    .dataframe tbody tr th:only-of-type {\n",
       "        vertical-align: middle;\n",
       "    }\n",
       "\n",
       "    .dataframe tbody tr th {\n",
       "        vertical-align: top;\n",
       "    }\n",
       "\n",
       "    .dataframe thead th {\n",
       "        text-align: right;\n",
       "    }\n",
       "</style>\n",
       "<table border=\"1\" class=\"dataframe\">\n",
       "  <thead>\n",
       "    <tr style=\"text-align: right;\">\n",
       "      <th></th>\n",
       "      <th>name</th>\n",
       "      <th>place</th>\n",
       "    </tr>\n",
       "  </thead>\n",
       "  <tbody>\n",
       "    <tr>\n",
       "      <th>0</th>\n",
       "      <td>Parvathy</td>\n",
       "      <td>Kollam</td>\n",
       "    </tr>\n",
       "    <tr>\n",
       "      <th>1</th>\n",
       "      <td>Revathy</td>\n",
       "      <td>Pathanmthitta</td>\n",
       "    </tr>\n",
       "    <tr>\n",
       "      <th>2</th>\n",
       "      <td>Suhaina</td>\n",
       "      <td>Trivandrum</td>\n",
       "    </tr>\n",
       "  </tbody>\n",
       "</table>\n",
       "</div>"
      ],
      "text/plain": [
       "       name          place\n",
       "0  Parvathy         Kollam\n",
       "1   Revathy  Pathanmthitta\n",
       "2   Suhaina     Trivandrum"
      ]
     },
     "execution_count": 16,
     "metadata": {},
     "output_type": "execute_result"
    }
   ],
   "source": [
    "names=[['Parvathy','Kollam'], ['Revathy', 'Pathanmthitta'] ,['Suhaina', 'Trivandrum']]\n",
    "name_place_df =  pd.DataFrame(names ,columns =['name' , 'place'])\n",
    "name_place_df"
   ]
  },
  {
   "cell_type": "code",
   "execution_count": null,
   "id": "720cee42",
   "metadata": {},
   "outputs": [],
   "source": []
  }
 ],
 "metadata": {
  "kernelspec": {
   "display_name": "Python 3 (ipykernel)",
   "language": "python",
   "name": "python3"
  },
  "language_info": {
   "codemirror_mode": {
    "name": "ipython",
    "version": 3
   },
   "file_extension": ".py",
   "mimetype": "text/x-python",
   "name": "python",
   "nbconvert_exporter": "python",
   "pygments_lexer": "ipython3",
   "version": "3.9.13"
  }
 },
 "nbformat": 4,
 "nbformat_minor": 5
}
